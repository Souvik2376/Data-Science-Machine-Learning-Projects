{
 "cells": [
  {
   "cell_type": "code",
   "execution_count": 7,
   "metadata": {
    "collapsed": true
   },
   "outputs": [
    {
     "name": "stdout",
     "output_type": "stream",
     "text": [
      "Requirement already satisfied: speechrecognition in c:\\programdata\\anaconda3\\lib\\site-packages (3.8.1)\n",
      "Collecting PyAudio\n",
      "  Using cached PyAudio-0.2.11.tar.gz (37 kB)\n",
      "Building wheels for collected packages: PyAudio\n",
      "  Building wheel for PyAudio (setup.py): started\n",
      "  Building wheel for PyAudio (setup.py): finished with status 'error'\n",
      "  Running setup.py clean for PyAudio\n",
      "Failed to build PyAudio\n",
      "Installing collected packages: PyAudio\n",
      "    Running setup.py install for PyAudio: started\n",
      "    Running setup.py install for PyAudio: finished with status 'error'\n"
     ]
    },
    {
     "name": "stderr",
     "output_type": "stream",
     "text": [
      "WARNING: Ignoring invalid distribution -sutil (c:\\programdata\\anaconda3\\lib\\site-packages)\n",
      "WARNING: Ignoring invalid distribution - (c:\\programdata\\anaconda3\\lib\\site-packages)\n",
      "WARNING: Ignoring invalid distribution -cikit-learn (c:\\programdata\\anaconda3\\lib\\site-packages)\n",
      "WARNING: Ignoring invalid distribution -sutil (c:\\programdata\\anaconda3\\lib\\site-packages)\n",
      "WARNING: Ignoring invalid distribution - (c:\\programdata\\anaconda3\\lib\\site-packages)\n",
      "WARNING: Ignoring invalid distribution -cikit-learn (c:\\programdata\\anaconda3\\lib\\site-packages)\n",
      "  ERROR: Command errored out with exit status 1:\n",
      "   command: 'c:\\programdata\\anaconda3\\python.exe' -u -c 'import io, os, sys, setuptools, tokenize; sys.argv[0] = '\"'\"'C:\\\\Users\\\\Aswin\\\\AppData\\\\Local\\\\Temp\\\\pip-install-z3cep72z\\\\pyaudio_4646dca17652455ea3bfa1401f5c5dce\\\\setup.py'\"'\"'; __file__='\"'\"'C:\\\\Users\\\\Aswin\\\\AppData\\\\Local\\\\Temp\\\\pip-install-z3cep72z\\\\pyaudio_4646dca17652455ea3bfa1401f5c5dce\\\\setup.py'\"'\"';f = getattr(tokenize, '\"'\"'open'\"'\"', open)(__file__) if os.path.exists(__file__) else io.StringIO('\"'\"'from setuptools import setup; setup()'\"'\"');code = f.read().replace('\"'\"'\\r\\n'\"'\"', '\"'\"'\\n'\"'\"');f.close();exec(compile(code, __file__, '\"'\"'exec'\"'\"'))' bdist_wheel -d 'C:\\Users\\Aswin\\AppData\\Local\\Temp\\pip-wheel-6rldqrky'\n",
      "       cwd: C:\\Users\\Aswin\\AppData\\Local\\Temp\\pip-install-z3cep72z\\pyaudio_4646dca17652455ea3bfa1401f5c5dce\\\n",
      "  Complete output (15 lines):\n",
      "  running bdist_wheel\n",
      "  running build\n",
      "  running build_py\n",
      "  creating build\n",
      "  creating build\\lib.win-amd64-3.8\n",
      "  copying src\\pyaudio.py -> build\\lib.win-amd64-3.8\n",
      "  running build_ext\n",
      "  building '_portaudio' extension\n",
      "  creating build\\temp.win-amd64-3.8\n",
      "  creating build\\temp.win-amd64-3.8\\Release\n",
      "  creating build\\temp.win-amd64-3.8\\Release\\src\n",
      "  C:\\ProgramData\\Anaconda3\\Library\\mingw-w64\\bin\\gcc.exe -mdll -O -Wall -DMS_WIN64 -DMS_WIN64=1 -Ic:\\programdata\\anaconda3\\include -Ic:\\programdata\\anaconda3\\include -c src/_portaudiomodule.c -o build\\temp.win-amd64-3.8\\Release\\src\\_portaudiomodule.o\n",
      "  src/_portaudiomodule.c:29:23: fatal error: portaudio.h: No such file or directory\n",
      "  compilation terminated.\n",
      "  error: command 'C:\\\\ProgramData\\\\Anaconda3\\\\Library\\\\mingw-w64\\\\bin\\\\gcc.exe' failed with exit status 1\n",
      "  ----------------------------------------\n",
      "  ERROR: Failed building wheel for PyAudio\n",
      "WARNING: Ignoring invalid distribution -sutil (c:\\programdata\\anaconda3\\lib\\site-packages)\n",
      "WARNING: Ignoring invalid distribution - (c:\\programdata\\anaconda3\\lib\\site-packages)\n",
      "WARNING: Ignoring invalid distribution -cikit-learn (c:\\programdata\\anaconda3\\lib\\site-packages)\n",
      "    ERROR: Command errored out with exit status 1:\n",
      "     command: 'c:\\programdata\\anaconda3\\python.exe' -u -c 'import io, os, sys, setuptools, tokenize; sys.argv[0] = '\"'\"'C:\\\\Users\\\\Aswin\\\\AppData\\\\Local\\\\Temp\\\\pip-install-z3cep72z\\\\pyaudio_4646dca17652455ea3bfa1401f5c5dce\\\\setup.py'\"'\"'; __file__='\"'\"'C:\\\\Users\\\\Aswin\\\\AppData\\\\Local\\\\Temp\\\\pip-install-z3cep72z\\\\pyaudio_4646dca17652455ea3bfa1401f5c5dce\\\\setup.py'\"'\"';f = getattr(tokenize, '\"'\"'open'\"'\"', open)(__file__) if os.path.exists(__file__) else io.StringIO('\"'\"'from setuptools import setup; setup()'\"'\"');code = f.read().replace('\"'\"'\\r\\n'\"'\"', '\"'\"'\\n'\"'\"');f.close();exec(compile(code, __file__, '\"'\"'exec'\"'\"'))' install --record 'C:\\Users\\Aswin\\AppData\\Local\\Temp\\pip-record-nb332_er\\install-record.txt' --single-version-externally-managed --compile --install-headers 'c:\\programdata\\anaconda3\\Include\\PyAudio'\n",
      "         cwd: C:\\Users\\Aswin\\AppData\\Local\\Temp\\pip-install-z3cep72z\\pyaudio_4646dca17652455ea3bfa1401f5c5dce\\\n",
      "    Complete output (15 lines):\n",
      "    running install\n",
      "    running build\n",
      "    running build_py\n",
      "    creating build\n",
      "    creating build\\lib.win-amd64-3.8\n",
      "    copying src\\pyaudio.py -> build\\lib.win-amd64-3.8\n",
      "    running build_ext\n",
      "    building '_portaudio' extension\n",
      "    creating build\\temp.win-amd64-3.8\n",
      "    creating build\\temp.win-amd64-3.8\\Release\n",
      "    creating build\\temp.win-amd64-3.8\\Release\\src\n",
      "    C:\\ProgramData\\Anaconda3\\Library\\mingw-w64\\bin\\gcc.exe -mdll -O -Wall -DMS_WIN64 -DMS_WIN64=1 -Ic:\\programdata\\anaconda3\\include -Ic:\\programdata\\anaconda3\\include -c src/_portaudiomodule.c -o build\\temp.win-amd64-3.8\\Release\\src\\_portaudiomodule.o\n",
      "    src/_portaudiomodule.c:29:23: fatal error: portaudio.h: No such file or directory\n",
      "    compilation terminated.\n",
      "    error: command 'C:\\\\ProgramData\\\\Anaconda3\\\\Library\\\\mingw-w64\\\\bin\\\\gcc.exe' failed with exit status 1\n",
      "    ----------------------------------------\n",
      "ERROR: Command errored out with exit status 1: 'c:\\programdata\\anaconda3\\python.exe' -u -c 'import io, os, sys, setuptools, tokenize; sys.argv[0] = '\"'\"'C:\\\\Users\\\\Aswin\\\\AppData\\\\Local\\\\Temp\\\\pip-install-z3cep72z\\\\pyaudio_4646dca17652455ea3bfa1401f5c5dce\\\\setup.py'\"'\"'; __file__='\"'\"'C:\\\\Users\\\\Aswin\\\\AppData\\\\Local\\\\Temp\\\\pip-install-z3cep72z\\\\pyaudio_4646dca17652455ea3bfa1401f5c5dce\\\\setup.py'\"'\"';f = getattr(tokenize, '\"'\"'open'\"'\"', open)(__file__) if os.path.exists(__file__) else io.StringIO('\"'\"'from setuptools import setup; setup()'\"'\"');code = f.read().replace('\"'\"'\\r\\n'\"'\"', '\"'\"'\\n'\"'\"');f.close();exec(compile(code, __file__, '\"'\"'exec'\"'\"'))' install --record 'C:\\Users\\Aswin\\AppData\\Local\\Temp\\pip-record-nb332_er\\install-record.txt' --single-version-externally-managed --compile --install-headers 'c:\\programdata\\anaconda3\\Include\\PyAudio' Check the logs for full command output.\n",
      "WARNING: Ignoring invalid distribution -sutil (c:\\programdata\\anaconda3\\lib\\site-packages)\n",
      "WARNING: Ignoring invalid distribution - (c:\\programdata\\anaconda3\\lib\\site-packages)\n",
      "WARNING: Ignoring invalid distribution -cikit-learn (c:\\programdata\\anaconda3\\lib\\site-packages)\n",
      "WARNING: Ignoring invalid distribution -sutil (c:\\programdata\\anaconda3\\lib\\site-packages)\n",
      "WARNING: Ignoring invalid distribution - (c:\\programdata\\anaconda3\\lib\\site-packages)\n",
      "WARNING: Ignoring invalid distribution -cikit-learn (c:\\programdata\\anaconda3\\lib\\site-packages)\n",
      "WARNING: Ignoring invalid distribution -sutil (c:\\programdata\\anaconda3\\lib\\site-packages)\n",
      "WARNING: Ignoring invalid distribution - (c:\\programdata\\anaconda3\\lib\\site-packages)\n",
      "WARNING: Ignoring invalid distribution -cikit-learn (c:\\programdata\\anaconda3\\lib\\site-packages)\n",
      "WARNING: You are using pip version 21.2.2; however, version 21.2.4 is available.\n",
      "You should consider upgrading via the 'c:\\programdata\\anaconda3\\python.exe -m pip install --upgrade pip' command.\n"
     ]
    }
   ],
   "source": [
    "# install the module\n",
    "!pip install speechrecognition\n",
    "!conda install pyaudio"
   ]
  },
  {
   "cell_type": "code",
   "execution_count": 2,
   "metadata": {},
   "outputs": [],
   "source": [
    "# import the module\n",
    "import speech_recognition as sr"
   ]
  },
  {
   "cell_type": "code",
   "execution_count": 3,
   "metadata": {},
   "outputs": [],
   "source": [
    "# initialize\n",
    "r = sr.Recognizer()"
   ]
  },
  {
   "cell_type": "markdown",
   "metadata": {},
   "source": [
    "## Convert Speech to Text in Real time"
   ]
  },
  {
   "cell_type": "code",
   "execution_count": 12,
   "metadata": {},
   "outputs": [
    {
     "name": "stdout",
     "output_type": "stream",
     "text": [
      "Speak now\n",
      "Speaker: welcome to the channel\n",
      "Speak now\n",
      "Speaker: testing speech recognition\n",
      "Speak now\n",
      "Speaker: quit\n"
     ]
    }
   ],
   "source": [
    "while True:\n",
    "    with sr.Microphone() as source:\n",
    "        # clear background noise\n",
    "        r.adjust_for_ambient_noise(source, duration=0.3)\n",
    "        \n",
    "        print(\"Speak now\")\n",
    "        # capture the audio\n",
    "        audio = r.listen(source)\n",
    "        \n",
    "        try:\n",
    "            text = r.recognize_google(audio)\n",
    "            print(\"Speaker:\", text)\n",
    "            if text == 'quit':\n",
    "                break\n",
    "        except:\n",
    "            print('Please say again!!!')"
   ]
  },
  {
   "cell_type": "markdown",
   "metadata": {},
   "source": [
    "## Convert Audio to Text"
   ]
  },
  {
   "cell_type": "code",
   "execution_count": 13,
   "metadata": {},
   "outputs": [
    {
     "name": "stdout",
     "output_type": "stream",
     "text": [
      "listening to audio\n",
      "Audio: welcome to speech recognition\n"
     ]
    }
   ],
   "source": [
    "with sr.AudioFile('test.wav') as source:\n",
    "    print(\"listening to audio\")\n",
    "    # capture the audio\n",
    "    audio = r.listen(source)\n",
    "\n",
    "    try:\n",
    "        text = r.recognize_google(audio)\n",
    "        print(\"Audio:\", text)\n",
    "    except:\n",
    "        print('Error')"
   ]
  },
  {
   "cell_type": "code",
   "execution_count": null,
   "metadata": {},
   "outputs": [],
   "source": []
  },
  {
   "cell_type": "code",
   "execution_count": null,
   "metadata": {},
   "outputs": [],
   "source": []
  }
 ],
 "metadata": {
  "kernelspec": {
   "display_name": "Python 3",
   "language": "python",
   "name": "python3"
  },
  "language_info": {
   "codemirror_mode": {
    "name": "ipython",
    "version": 3
   },
   "file_extension": ".py",
   "mimetype": "text/x-python",
   "name": "python",
   "nbconvert_exporter": "python",
   "pygments_lexer": "ipython3",
   "version": "3.8.3"
  }
 },
 "nbformat": 4,
 "nbformat_minor": 4
}
